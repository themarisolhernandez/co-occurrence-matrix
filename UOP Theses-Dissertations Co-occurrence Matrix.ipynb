{
 "cells": [
  {
   "cell_type": "markdown",
   "id": "382f28e8",
   "metadata": {},
   "source": [
    "<left><font size=3>March 2, 2022 / [Marisol Hernandez](https://www.linkedin.com/in/marisol-y-hernandez/)</font></left>\n",
    "# <left><font size=6> *University of the Pacific*<br>Theses/Dissertations Co-occurrence Matrix</font>  \n",
    "<left><font size=3>Building a co-occurrence matrix using [d3.js](https://d3js.org) to analyze overlapping topics in dissertations.</font></left>\n",
    "\n",
    "---\n",
    "\n",
    "## Table of Contents\n",
    "\n",
    "[I. Objective](#objective)  \n",
    "[II. Web Scraping](#scraping)  \n",
    "[III. Combine Data and Sample](#data)  \n",
    "[IV. Computing Pairwise Similarities](#pairwise)  \n",
    "[V. Preparing the JSON](#json)  \n",
    "[VI. Export the JSON](#export)\n",
    "    "
   ]
  },
  {
   "cell_type": "markdown",
   "id": "743eb816",
   "metadata": {},
   "source": [
    "## Objective\n",
    "Sometimes we think we find the holy grail, that one piece of literature that perfectly supports our research. As you skim the paper, you find yourself begging for more. What else is out there? There has to be other related work out there. A great place to start when looking for related literature is to look at the resources cited in the bibliography. I said \"great,\" but is it really? \n",
    "\n",
    "There has to be **another way**, a more efficient, appealing, user-friendly solution.\n",
    "\n",
    "Introducing the co-occurrence matrix. I went to work and developed a matrix diagram that visualizes overlapping topics in a sample of dissertations from my University. Each colored cell represents two published works and their similiarities; the darker the color, the greater the similarity.\n",
    "\n",
    "In doing so, I had two main jobs: **get the data** and **build the d3 visualization**."
   ]
  },
  {
   "cell_type": "markdown",
   "id": "a197e8d2",
   "metadata": {},
   "source": [
    "## Import Libraries"
   ]
  },
  {
   "cell_type": "code",
   "execution_count": 2,
   "id": "45d70991",
   "metadata": {},
   "outputs": [],
   "source": [
    "import pandas as pd\n",
    "import numpy as np\n",
    "import os\n",
    "import urllib.request\n",
    "import requests\n",
    "from urllib.parse import urljoin\n",
    "from bs4 import BeautifulSoup\n",
    "import re\n",
    "from random import sample\n",
    "\n",
    "from collections import Counter\n",
    "from sklearn.feature_extraction.text import TfidfVectorizer"
   ]
  },
  {
   "cell_type": "code",
   "execution_count": 3,
   "id": "37866501",
   "metadata": {},
   "outputs": [],
   "source": [
    "import nltk\n",
    "from nltk.stem.wordnet import WordNetLemmatizer\n",
    "from nltk.tokenize import word_tokenize\n",
    "import spacy\n",
    "\n",
    "#nltk.download('punkt')"
   ]
  },
  {
   "cell_type": "markdown",
   "id": "25bf7576",
   "metadata": {},
   "source": [
    "## Web Scraping\n",
    "When a student completes their thesis or dissertation, their work is published on this site: https://scholarlycommons.pacific.edu/uop_etds/. With this site, I had to do the following:\n",
    "\n",
    "1. Find the article listing of each thesis/dissertation.\n",
    "2. Retrieve the link to the thesis/dissertation overview.\n",
    "3. From that page, retrieve the title, author, group (department), and abstract.\n",
    "\n",
    "First, using **requests** and **BeautifulSoup** I retrieve the contents of the URL. Additionally, I initialize several lists where I will store the data items."
   ]
  },
  {
   "cell_type": "code",
   "execution_count": 4,
   "id": "b026960c",
   "metadata": {},
   "outputs": [],
   "source": [
    "titles = []\n",
    "authors = []\n",
    "groups = []\n",
    "keywords = []"
   ]
  },
  {
   "cell_type": "markdown",
   "id": "0f1b1230",
   "metadata": {},
   "source": [
    "I will break the following into steps."
   ]
  },
  {
   "cell_type": "code",
   "execution_count": 5,
   "id": "dc018b67",
   "metadata": {},
   "outputs": [],
   "source": [
    "for i in range(1,8):\n",
    "    url = 'https://scholarlycommons.pacific.edu/uop_etds/'\n",
    "    \n",
    "    if i == 1:\n",
    "        extension = 'index.html'\n",
    "        url = url + extension\n",
    "    else:\n",
    "        extension = 'index.' + str(i) + '.html'\n",
    "        url = url + extension\n",
    "    \n",
    "    # retrieve contents of url\n",
    "    response = requests.get(url)\n",
    "    soup= BeautifulSoup(response.text, \"html.parser\")\n",
    "    \n",
    "    # search for article listing\n",
    "    for string in soup.select(\"[class='article-listing']\"):\n",
    "        string = BeautifulSoup(str(string), \"html.parser\")\n",
    "\n",
    "        # retrieve article overview\n",
    "        articleListing = string.find('a').get('href')\n",
    "        response = requests.get(articleListing)\n",
    "        articleSoup = BeautifulSoup(response.text, \"html.parser\") \n",
    "\n",
    "        # retreive title\n",
    "        try:\n",
    "            title = articleSoup.find(\"meta\", property=\"og:title\")['content']\n",
    "            titles.append(title)\n",
    "        except:\n",
    "            titles.append(np.nan)\n",
    "\n",
    "        # retrieve authors\n",
    "        try:\n",
    "            author = articleSoup.find(\"meta\", property=\"article:author\")['content']\n",
    "            authors.append(author)\n",
    "        except:\n",
    "            authors.append(np.nan)\n",
    "\n",
    "        # retrieve group\n",
    "        try:\n",
    "            group = articleSoup.find('div', {'class':'element', 'id':'department'}).find('p').get_text()\n",
    "            groups.append(group)\n",
    "        except:\n",
    "            groups.append(np.nan)\n",
    "\n",
    "        # retrieve keywords\n",
    "        try:\n",
    "            keyword = articleSoup.find(\"meta\", attrs={\"name\":\"keywords\"})['content']\n",
    "            keywords.append(keyword)\n",
    "        except:\n",
    "            keywords.append(np.nan)"
   ]
  },
  {
   "cell_type": "markdown",
   "id": "1eea446e",
   "metadata": {},
   "source": [
    "### 1. Find the article listing of each thesis/dissertation.\n",
    "This is the first article listing. As you can see, the structure is of an HTML file. Note, I use the `prettify()` method just to better structure the print out, but it is not used in my code above."
   ]
  },
  {
   "cell_type": "code",
   "execution_count": 6,
   "id": "bfb7f95b",
   "metadata": {},
   "outputs": [
    {
     "name": "stdout",
     "output_type": "stream",
     "text": [
      "<p class=\"article-listing\">\n",
      " <strong>\n",
      "  Thesis - Pacific Access Restricted:\n",
      " </strong>\n",
      " <a href=\"https://scholarlycommons.pacific.edu/uop_etds/273\">\n",
      "  Human Cytochrome P450 3A4 Over-Expressing IEC-18 and MDCK Cell Lines as an In-Vitro Model to Assess Gut Permeability and the Enzyme Metabolism\n",
      " </a>\n",
      " , Swathi Vangala\n",
      "</p>\n"
     ]
    }
   ],
   "source": [
    "string = soup.select(\"[class='article-listing']\")[0]\n",
    "string = BeautifulSoup(str(string), \"html.parser\")\n",
    "print(string.prettify())"
   ]
  },
  {
   "cell_type": "markdown",
   "id": "fe6b82cb",
   "metadata": {},
   "source": [
    "### 2. Retrieve the link to the thesis/dissertation overview.\n",
    "Above you may notice a URL. This is link to the thesis/dissertation overview. I retrieve this component from the HREF attribute of the anchor `<a>` tag. The HREF contains two components: the URL, which is the actual link, and the clickable text that appears on the page, called the \"anchor text.\""
   ]
  },
  {
   "cell_type": "code",
   "execution_count": 7,
   "id": "c80877ae",
   "metadata": {
    "scrolled": true
   },
   "outputs": [
    {
     "data": {
      "text/plain": [
       "'https://scholarlycommons.pacific.edu/uop_etds/273'"
      ]
     },
     "execution_count": 7,
     "metadata": {},
     "output_type": "execute_result"
    }
   ],
   "source": [
    "articleListing = string.find('a').get('href')\n",
    "articleListing"
   ]
  },
  {
   "cell_type": "markdown",
   "id": "92f4d2fa",
   "metadata": {},
   "source": [
    "Similar to the beginning, we can use **requests** and **BeautifulSoup** to retrieve the contents of this URL."
   ]
  },
  {
   "cell_type": "code",
   "execution_count": 8,
   "id": "4c636b0c",
   "metadata": {},
   "outputs": [
    {
     "name": "stdout",
     "output_type": "stream",
     "text": [
      "<!DOCTYPE html>\n",
      "<html lang=\"en\">\n",
      " <head>\n",
      "  <!-- inj yui3-seed: -->\n",
      "  <script src=\"//cdnjs.cloudflare.com/ajax/libs/yui/3.6.0/yui/yui-min.js\" type=\"text/javascript\">\n",
      "  </script>\n",
      "  <script src=\"//ajax.googleapis.com/ajax/libs/jquery/1.10.2/jquery.min.js\" type=\"text/javascript\">\n",
      "  </script>\n",
      "  <!-- Adobe Analytics SiteCatalyst -->\n",
      "  <script src=\"https://assets.adobedtm.com/376c5346e33126fdb6b2dbac81e307cbacfd7935/satelliteLib-fac053ad0cbd6e703a1df9a51f69fde523024cef.js\" type=\"text/javascript\">\n",
      "  </s\n"
     ]
    }
   ],
   "source": [
    "response = requests.get(articleListing)\n",
    "articleSoup = BeautifulSoup(response.text, \"html.parser\") \n",
    "# First 500 characters\n",
    "print(articleSoup.prettify()[0:500])"
   ]
  },
  {
   "cell_type": "markdown",
   "id": "ce11fd04",
   "metadata": {},
   "source": [
    "### 3. From that page, retrieve the title, author, group (department), and keywords.\n",
    "We can find the title, author, group (department) and abstract in this page. Below, I retrieve the title and author."
   ]
  },
  {
   "cell_type": "code",
   "execution_count": 9,
   "id": "6174547c",
   "metadata": {},
   "outputs": [
    {
     "name": "stdout",
     "output_type": "stream",
     "text": [
      "Human Cytochrome P450 3A4 Over-Expressing IEC-18 and MDCK Cell Lines as an In-Vitro Model to Assess Gut Permeability and the Enzyme Metabolism\n"
     ]
    }
   ],
   "source": [
    "# retreive title\n",
    "title = articleSoup.find(\"meta\", property=\"og:title\")['content']\n",
    "print(title)"
   ]
  },
  {
   "cell_type": "code",
   "execution_count": 10,
   "id": "38a2121f",
   "metadata": {},
   "outputs": [
    {
     "name": "stdout",
     "output_type": "stream",
     "text": [
      "Swathi Vangala\n"
     ]
    }
   ],
   "source": [
    "# retreive author\n",
    "author = articleSoup.find(\"meta\", property=\"article:author\")['content']\n",
    "print(author)"
   ]
  },
  {
   "cell_type": "markdown",
   "id": "531db350",
   "metadata": {},
   "source": [
    "Similarily, I retrieve the group (department)."
   ]
  },
  {
   "cell_type": "code",
   "execution_count": 11,
   "id": "f9aba2b7",
   "metadata": {},
   "outputs": [
    {
     "name": "stdout",
     "output_type": "stream",
     "text": [
      "Pharmaceutical and Chemical Sciences\n"
     ]
    }
   ],
   "source": [
    "# retrieve group\n",
    "group = articleSoup.find('div', {'class':'element', 'id':'department'}).find('p').get_text()\n",
    "print(group)"
   ]
  },
  {
   "cell_type": "markdown",
   "id": "28ae7a15",
   "metadata": {},
   "source": [
    "Lastly, I retrieve the keywords."
   ]
  },
  {
   "cell_type": "code",
   "execution_count": 12,
   "id": "99b0d938",
   "metadata": {},
   "outputs": [
    {
     "name": "stdout",
     "output_type": "stream",
     "text": [
      "Pharmacy sciences, Health and environmental sciences\n"
     ]
    }
   ],
   "source": [
    "# retrieve keywords\n",
    "keyword = articleSoup.find(\"meta\", attrs={\"name\":\"keywords\"})['content']\n",
    "print(keyword)"
   ]
  },
  {
   "cell_type": "markdown",
   "id": "ba93525d",
   "metadata": {},
   "source": [
    "## Combine Data And Sample\n",
    "Using the lists, I combine all the data into one dataframe. I then sample just 73 and add my professor's thesis in there for a total sample of 74 theses/dissertations."
   ]
  },
  {
   "cell_type": "code",
   "execution_count": 30,
   "id": "81961d1c",
   "metadata": {
    "scrolled": true
   },
   "outputs": [],
   "source": [
    "data = pd.DataFrame({'original title':titles, 'author':authors, 'group':groups, 'keywords':keywords})\n",
    "data['title'] = data['original title'] + ' by ' + data['author']\n",
    "\n",
    "data = data[['title', 'group', 'keywords']]\n",
    "data.dropna(inplace=True) # remove NA's"
   ]
  },
  {
   "cell_type": "code",
   "execution_count": 31,
   "id": "0aa25088",
   "metadata": {},
   "outputs": [
    {
     "data": {
      "text/plain": [
       "['Learning, Leadership and Change',\n",
       " 'Pharmaceutical and Chemical Sciences',\n",
       " 'Psychology',\n",
       " 'Engineering',\n",
       " 'Music Therapy',\n",
       " 'Educational and School Psychology',\n",
       " 'Department of Endodontics',\n",
       " 'Communication',\n",
       " 'Curriculum and Instruction',\n",
       " 'Department of Orthodontics',\n",
       " 'Educational Administration and Leadership',\n",
       " 'Biological Sciences',\n",
       " 'Speech-Language Pathology',\n",
       " 'Food Studies',\n",
       " 'Sport Sciences',\n",
       " 'Education',\n",
       " 'International Studies',\n",
       " 'Music Education',\n",
       " 'Benerd School of Education',\n",
       " 'Intercultural Relations',\n",
       " 'Health, Exercise, and Sport Sciences',\n",
       " 'Engineering Science',\n",
       " 'School Psychology',\n",
       " 'Chemistry',\n",
       " 'Graduate School',\n",
       " 'Dentistry']"
      ]
     },
     "execution_count": 31,
     "metadata": {},
     "output_type": "execute_result"
    }
   ],
   "source": [
    "data['group'].unique().tolist()"
   ]
  },
  {
   "cell_type": "code",
   "execution_count": 37,
   "id": "bb6164e5",
   "metadata": {},
   "outputs": [
    {
     "data": {
      "text/html": [
       "<div>\n",
       "<style scoped>\n",
       "    .dataframe tbody tr th:only-of-type {\n",
       "        vertical-align: middle;\n",
       "    }\n",
       "\n",
       "    .dataframe tbody tr th {\n",
       "        vertical-align: top;\n",
       "    }\n",
       "\n",
       "    .dataframe thead th {\n",
       "        text-align: right;\n",
       "    }\n",
       "</style>\n",
       "<table border=\"1\" class=\"dataframe\">\n",
       "  <thead>\n",
       "    <tr style=\"text-align: right;\">\n",
       "      <th></th>\n",
       "      <th>title</th>\n",
       "      <th>group</th>\n",
       "      <th>keywords</th>\n",
       "    </tr>\n",
       "  </thead>\n",
       "  <tbody>\n",
       "    <tr>\n",
       "      <th>0</th>\n",
       "      <td>Hostile Takeover: The Effects of Work Stress b...</td>\n",
       "      <td>Learning, Leadership and Change</td>\n",
       "      <td>Educational leadership, female principals, job...</td>\n",
       "    </tr>\n",
       "    <tr>\n",
       "      <th>1</th>\n",
       "      <td>All IN PIX YPAR: A YOUTH PARTICIPATORY ACTION ...</td>\n",
       "      <td>Learning, Leadership and Change</td>\n",
       "      <td>Disability studies, Education policy, Secondar...</td>\n",
       "    </tr>\n",
       "    <tr>\n",
       "      <th>2</th>\n",
       "      <td>Intrinsic motivation is not enough: Exploring ...</td>\n",
       "      <td>Learning, Leadership and Change</td>\n",
       "      <td>Higher education, career advancement, faculty ...</td>\n",
       "    </tr>\n",
       "    <tr>\n",
       "      <th>3</th>\n",
       "      <td>WHERE AM I?: THE ABSENCE OF THE BLACK MALE FRO...</td>\n",
       "      <td>Learning, Leadership and Change</td>\n",
       "      <td>African American studies, Black males, Executi...</td>\n",
       "    </tr>\n",
       "    <tr>\n",
       "      <th>4</th>\n",
       "      <td>EXPLORING THE IDENTIFICATION OF AMERICAN INDIA...</td>\n",
       "      <td>Learning, Leadership and Change</td>\n",
       "      <td>American Indian, Autism, Indigenous Methodolog...</td>\n",
       "    </tr>\n",
       "  </tbody>\n",
       "</table>\n",
       "</div>"
      ],
      "text/plain": [
       "                                               title  \\\n",
       "0  Hostile Takeover: The Effects of Work Stress b...   \n",
       "1  All IN PIX YPAR: A YOUTH PARTICIPATORY ACTION ...   \n",
       "2  Intrinsic motivation is not enough: Exploring ...   \n",
       "3  WHERE AM I?: THE ABSENCE OF THE BLACK MALE FRO...   \n",
       "4  EXPLORING THE IDENTIFICATION OF AMERICAN INDIA...   \n",
       "\n",
       "                             group  \\\n",
       "0  Learning, Leadership and Change   \n",
       "1  Learning, Leadership and Change   \n",
       "2  Learning, Leadership and Change   \n",
       "3  Learning, Leadership and Change   \n",
       "4  Learning, Leadership and Change   \n",
       "\n",
       "                                            keywords  \n",
       "0  Educational leadership, female principals, job...  \n",
       "1  Disability studies, Education policy, Secondar...  \n",
       "2  Higher education, career advancement, faculty ...  \n",
       "3  African American studies, Black males, Executi...  \n",
       "4  American Indian, Autism, Indigenous Methodolog...  "
      ]
     },
     "execution_count": 37,
     "metadata": {},
     "output_type": "execute_result"
    }
   ],
   "source": [
    "data1 = data[data['group']=='Learning, Leadership and Change'].head(19)\n",
    "data2 = data[data['group']=='Educational and School Psychology'].head(19)\n",
    "data3 = data[data['group']=='Educational Administration and Leadership'].head(18)\n",
    "data4 = data[data['group']=='Education']\n",
    "data5 = data[data['group']=='Music Education']\n",
    "data6 = data[data['group']=='Benerd School of Education']\n",
    "data7 = data[data['group']=='Music Therapy']\n",
    "\n",
    "sample = pd.concat([data1, data2, data3, data4, data5, data6, data7])\n",
    "\n",
    "# Add Dana's dissertation\n",
    "dana = {'title':'How much do you care about education? Exploring fluctuations of public interest in education issues among top national priorities in the U.S. by Dana Nehoran',\n",
    "       'group':'Learning, Leadership and Change',\n",
    "       'keywords':'Education, Information science, Political science, Education, Mass Media, Natural Language Processing, Polls, Public Opinion Research, Topic Modeling'\n",
    "       }\n",
    "\n",
    "sample = sample.append(dana, ignore_index=True)\n",
    "sample.head()"
   ]
  },
  {
   "cell_type": "markdown",
   "id": "ad1e13f9",
   "metadata": {},
   "source": [
    "## Topic Co-occurences"
   ]
  },
  {
   "cell_type": "code",
   "execution_count": 223,
   "id": "25ac0f8f",
   "metadata": {},
   "outputs": [],
   "source": [
    "# store sample items into lists\n",
    "titles = list(sample['title'])\n",
    "groups = list(sample['group'])\n",
    "corpus = list(sample['keywords'])"
   ]
  },
  {
   "cell_type": "code",
   "execution_count": 224,
   "id": "cd48d325",
   "metadata": {},
   "outputs": [],
   "source": [
    "keywordsList = []\n",
    "countLists = []\n",
    "\n",
    "for i in range(0, len(corpus)):\n",
    "    count = []\n",
    "    commonKeys = []\n",
    "    currentKeys = list(set(corpus[i].lower().split(', ')))\n",
    "    \n",
    "    for j in range(0, len(corpus)):\n",
    "        nextKeys = list(set(corpus[j].lower().split(', ')))\n",
    "\n",
    "        intersection = [key for key in currentKeys if key in nextKeys]\n",
    "        noCommonKeys = len(intersection)\n",
    "    \n",
    "        count.append(noCommonKeys)\n",
    "        commonKeys.append(intersection)\n",
    "    \n",
    "    countLists.append(count)\n",
    "    keywordsList.append(commonKeys)"
   ]
  },
  {
   "cell_type": "code",
   "execution_count": 225,
   "id": "dc3c68bf",
   "metadata": {},
   "outputs": [],
   "source": [
    "# Convert to array\n",
    "arr = np.array(countLists)\n",
    "np.fill_diagonal(arr, 0) # fill the diagonal with 0\n",
    "\n",
    "arr2 = np.array(keywordsList, dtype=object)"
   ]
  },
  {
   "cell_type": "markdown",
   "id": "5c228131",
   "metadata": {},
   "source": [
    "## Preparing the Data"
   ]
  },
  {
   "cell_type": "markdown",
   "id": "f6e7e9cc",
   "metadata": {},
   "source": [
    "Here, we are just preparing our data for the JSON file. In this first cell, I prepare the nodes with the following format, \n",
    "\n",
    "`{'group':group, 'index':index, 'name':name}`"
   ]
  },
  {
   "cell_type": "code",
   "execution_count": 226,
   "id": "15bc41b5",
   "metadata": {},
   "outputs": [],
   "source": [
    "group = ''\n",
    "index = 0\n",
    "name = ''\n",
    "\n",
    "allNodes = []\n",
    "\n",
    "for i in range(0, len(corpus)):\n",
    "    group = groups[i]\n",
    "    index = i\n",
    "    name = titles[i]\n",
    "    \n",
    "    node = {'group':group, 'index':index, 'name':name}\n",
    "    allNodes.append(node)"
   ]
  },
  {
   "cell_type": "code",
   "execution_count": 227,
   "id": "15c33288",
   "metadata": {},
   "outputs": [
    {
     "data": {
      "text/plain": [
       "[{'group': 'Learning, Leadership and Change',\n",
       "  'index': 0,\n",
       "  'name': 'Hostile Takeover: The Effects of Work Stress by Monica D. Barletta'},\n",
       " {'group': 'Learning, Leadership and Change',\n",
       "  'index': 1,\n",
       "  'name': 'All IN PIX YPAR: A YOUTH PARTICIPATORY ACTION RESEARCH STUDY OF STUDENTS WITH SIGNIFICANT DISABILITIES IN HIGH SCHOOL by Jessica L. Jennings'},\n",
       " {'group': 'Learning, Leadership and Change',\n",
       "  'index': 2,\n",
       "  'name': 'Intrinsic motivation is not enough: Exploring the decision to pursue promotion to full professor by Margaret Roberts'}]"
      ]
     },
     "execution_count": 227,
     "metadata": {},
     "output_type": "execute_result"
    }
   ],
   "source": [
    "# First 3 nodes\n",
    "allNodes[0:3]"
   ]
  },
  {
   "cell_type": "markdown",
   "id": "65726021",
   "metadata": {},
   "source": [
    "Next, I develop the links. These essentially contain the scaled cosine similarity. These have the following format,\n",
    "\n",
    "`{'source':source, 'target':target, 'value':value}`"
   ]
  },
  {
   "cell_type": "code",
   "execution_count": 228,
   "id": "5c680d88",
   "metadata": {},
   "outputs": [],
   "source": [
    "source = 0\n",
    "target = 0\n",
    "value = 0\n",
    "\n",
    "allLinks = []\n",
    "\n",
    "for i in range(0, len(corpus)):\n",
    "    for j in range(0, len(corpus)):\n",
    "        row = arr[i]\n",
    "        source = i\n",
    "        target = j\n",
    "        value = int(arr[i][j])\n",
    "        keys = arr2[i][j]\n",
    "    \n",
    "        link = {'source':source, 'target':target, 'value':value, 'keywords':keys}\n",
    "        allLinks.append(link)        "
   ]
  },
  {
   "cell_type": "code",
   "execution_count": 229,
   "id": "4be1a086",
   "metadata": {
    "scrolled": true
   },
   "outputs": [
    {
     "data": {
      "text/plain": [
       "[{'source': 0,\n",
       "  'target': 0,\n",
       "  'value': 0,\n",
       "  'keywords': ['work-family border theory',\n",
       "   'female principals',\n",
       "   'work stress',\n",
       "   'work-family conflict',\n",
       "   'spillover',\n",
       "   'educational leadership',\n",
       "   'job satisfaction']},\n",
       " {'source': 0, 'target': 1, 'value': 0, 'keywords': []},\n",
       " {'source': 0, 'target': 2, 'value': 0, 'keywords': []}]"
      ]
     },
     "execution_count": 229,
     "metadata": {},
     "output_type": "execute_result"
    }
   ],
   "source": [
    "# First 3 links\n",
    "allLinks[:3]"
   ]
  },
  {
   "cell_type": "markdown",
   "id": "13277c2f",
   "metadata": {},
   "source": [
    "## Export to JSON\n",
    "Lastly we export the data to JSON file. These file will essentially be used to develop the visualization."
   ]
  },
  {
   "cell_type": "code",
   "execution_count": 232,
   "id": "37ee4d22",
   "metadata": {},
   "outputs": [],
   "source": [
    "import json\n",
    "\n",
    "data = {'nodes':allNodes, 'links':allLinks}\n",
    "\n",
    "with open(\"/Users/marisolhernandez/Desktop/SKAEL/Co-occurrence Matrix/data/data.json\", \"w\") as outfile:\n",
    "    json.dump(data, outfile)"
   ]
  }
 ],
 "metadata": {
  "kernelspec": {
   "display_name": "Python 3",
   "language": "python",
   "name": "python3"
  },
  "language_info": {
   "codemirror_mode": {
    "name": "ipython",
    "version": 3
   },
   "file_extension": ".py",
   "mimetype": "text/x-python",
   "name": "python",
   "nbconvert_exporter": "python",
   "pygments_lexer": "ipython3",
   "version": "3.8.8"
  }
 },
 "nbformat": 4,
 "nbformat_minor": 5
}
